{
 "metadata": {
  "language_info": {
   "codemirror_mode": {
    "name": "ipython",
    "version": 3
   },
   "file_extension": ".py",
   "mimetype": "text/x-python",
   "name": "python",
   "nbconvert_exporter": "python",
   "pygments_lexer": "ipython3",
   "version": "3.7.6"
  },
  "orig_nbformat": 2,
  "kernelspec": {
   "name": "python3",
   "display_name": "Python 3.7.6 64-bit ('base': conda)",
   "metadata": {
    "interpreter": {
     "hash": "203ee6afa89a942c26b15413e1b614e8d526b94ab483a99dcf3894455ca6c2bd"
    }
   }
  }
 },
 "nbformat": 4,
 "nbformat_minor": 2,
 "cells": [
  {
   "source": [
    "TEST CAN"
   ],
   "cell_type": "markdown",
   "metadata": {}
  },
  {
   "cell_type": "code",
   "execution_count": null,
   "metadata": {},
   "outputs": [],
   "source": [
    "import asyncio\n",
    "import serial\n",
    "from os import system\n",
    "import can\n",
    "from time import sleep\n"
   ]
  },
  {
   "cell_type": "code",
   "execution_count": null,
   "metadata": {
    "tags": []
   },
   "outputs": [],
   "source": [
    "def send_one():\n",
    "\n",
    "    # this uses the default configuration (for example from the config file)\n",
    "    # see https://python-can.readthedocs.io/en/stable/configuration.html\n",
    "    # bus = can.interface.Bus()\n",
    "\n",
    "    # Using specific buses works similar:\n",
    "    # bus = can.interface.Bus(bustype='socketcan', channel='vcan0', bitrate=250000)\n",
    "    bus = can.interface.Bus(bustype='pcan', channel='PCAN_USBBUS1', bitrate=250000)\n",
    "    # bus = can.interface.Bus(bustype='ixxat', channel=0, bitrate=250000)\n",
    "    # bus = can.interface.Bus(bustype='vector', app_name='CANalyzer', channel=0, bitrate=250000)\n",
    "    # ...\n",
    "\n",
    "    msg = can.Message(arbitration_id=0x202,\n",
    "                      data=[0, 25, 0, 1, 3, 1, 4, 1],\n",
    "                      is_extended_id=False)\n",
    "\n",
    "    try:\n",
    "        bus.send(msg)\n",
    "        print(\"Message sent on {}\".format(bus.channel_info))\n",
    "    except can.CanError:\n",
    "        print(\"Message NOT sent\")\n",
    "\n",
    "    bus.shutdown()  \n",
    "\n",
    "def send_periodic(period):\n",
    "\n",
    "    # this uses the default configuration (for example from the config file)\n",
    "    # see https://python-can.readthedocs.io/en/stable/configuration.html\n",
    "    # bus = can.interface.Bus()\n",
    "\n",
    "    # Using specific buses works similar:\n",
    "    # bus = can.interface.Bus(bustype='socketcan', channel='vcan0', bitrate=250000)\n",
    "    bus = can.interface.Bus(bustype='pcan', channel='PCAN_USBBUS1', bitrate=250000)\n",
    "    # bus = can.interface.Bus(bustype='ixxat', channel=0, bitrate=250000)\n",
    "    # bus = can.interface.Bus(bustype='vector', app_name='CANalyzer', channel=0, bitrate=250000)\n",
    "    # ...\n",
    "\n",
    "    while (True):\n",
    "        msg = can.Message(arbitration_id=0x202,\n",
    "                        data=[0, 25, 0, 1, 3, 1, 4, 1],\n",
    "                        is_extended_id=False)\n",
    "\n",
    "        try:\n",
    "            bus.send(msg)\n",
    "            print(\"Message sent on {}\".format(bus.channel_info))\n",
    "        except can.CanError:\n",
    "            print(\"Message NOT sent\")\n",
    "\n",
    "        sleep(period)    \n",
    "\n",
    "    bus.shutdown()         \n",
    "\n",
    "def main():\n",
    "    send_periodic(0.5)\n",
    "\n",
    "if __name__ == '__main__':\n",
    "    main()"
   ]
  },
  {
   "cell_type": "code",
   "execution_count": null,
   "metadata": {},
   "outputs": [],
   "source": []
  }
 ]
}