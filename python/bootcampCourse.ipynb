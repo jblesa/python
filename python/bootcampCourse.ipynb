{
 "metadata": {
  "language_info": {
   "codemirror_mode": {
    "name": "ipython",
    "version": 3
   },
   "file_extension": ".py",
   "mimetype": "text/x-python",
   "name": "python",
   "nbconvert_exporter": "python",
   "pygments_lexer": "ipython3",
   "version": "3.7.6-final"
  },
  "orig_nbformat": 2,
  "kernelspec": {
   "name": "python37664bit86deb1513dbf47599827cdd7c272d0eb",
   "display_name": "Python 3.7.6 64-bit",
   "language": "python"
  }
 },
 "nbformat": 4,
 "nbformat_minor": 2,
 "cells": [
  {
   "source": [
    "# Lists\n"
   ],
   "cell_type": "markdown",
   "metadata": {}
  },
  {
   "cell_type": "code",
   "execution_count": null,
   "metadata": {},
   "outputs": [],
   "source": [
    "my_list = ['A string', 23, 100.2, 'o']\n",
    "\n",
    "len (my_list) #Longitud\n",
    "\n",
    "print(my_list[2:])\n",
    "print(my_list[:3])\n",
    "print(my_list[1:2])\n"
   ]
  },
  {
   "source": [
    "## Methods"
   ],
   "cell_type": "markdown",
   "metadata": {}
  },
  {
   "cell_type": "code",
   "execution_count": null,
   "metadata": {},
   "outputs": [],
   "source": [
    "list1 = [1,2,3]\n",
    "\n",
    "list1.append(4)\n",
    "print(list1)\n",
    "list1.pop(0)\n",
    "print(list1)\n",
    "\n",
    "list2 = [4,7, 1, 29, 13, 45, 100]\n",
    "list2.sort()\n",
    "list2\n"
   ]
  },
  {
   "cell_type": "code",
   "execution_count": null,
   "metadata": {},
   "outputs": [],
   "source": [
    "\n",
    "# Let's make three lists\n",
    "lst_1=[1,2,3]\n",
    "lst_2=[4,5,6]\n",
    "lst_3=[7,8,9]\n",
    "\n",
    "# Make a list of lists to form a matrix\n",
    "matrix = [lst_1,lst_2,lst_3]\n",
    "\n",
    "first_column = [row[0] for row in matrix]\n",
    "first_column"
   ]
  },
  {
   "source": [
    "## Functions\n",
    "\n",
    "Empezar función con def. Argumentos entre paréntesis, separados por comas.\n",
    "Cuidad o al indentación.\n",
    "Uso de return.\n"
   ],
   "cell_type": "markdown",
   "metadata": {}
  },
  {
   "cell_type": "code",
   "execution_count": null,
   "metadata": {},
   "outputs": [],
   "source": [
    "work_hours = [('Abby',100),('Billy',400),('Cassie',800)]\n",
    "\n",
    "def employee_check(work_hours):\n",
    "    '''\n",
    "    Devuelve el empleado que más horas ha trabajado.\n",
    "    '''\n",
    "\n",
    "    # Set some max value to intially beat, like zero hours\n",
    "    current_max = 0\n",
    "    # Set some empty value before the loop\n",
    "    employee_of_month = ''\n",
    "    \n",
    "    for employee,hours in work_hours:\n",
    "        if hours > current_max:\n",
    "            current_max = hours\n",
    "            employee_of_month = employee\n",
    "        else:\n",
    "            pass\n",
    "    \n",
    "    # Notice the indentation here\n",
    "    return (employee_of_month,current_max)\n",
    "\n",
    "employee_check(work_hours)\n"
   ]
  },
  {
   "source": [
    "### LESSER OF TWO EVENS: Write a function that returns the lesser of two given numbers if both numbers are even, but returns the greater if one or both numbers are odd\n",
    "\n",
    "* lesser_of_two_evens(2,4) --> 2\n",
    "* lesser_of_two_evens(2,5) --> 5"
   ],
   "cell_type": "markdown",
   "metadata": {}
  },
  {
   "cell_type": "code",
   "execution_count": null,
   "metadata": {},
   "outputs": [],
   "source": [
    "def lesser_of_evens(evenA,evenB):\n",
    "    result = evenA\n",
    "    if (evenA % 2 == 0) and (evenB % 2 == 0):\n",
    "        result = min(evenA,evenB)\n",
    "    else:\n",
    "        result = max(evenA,evenB)\n",
    "    return result\n",
    "\n",
    "lesser_of_evens(2,4)\n",
    "\n",
    "#lesser_of_evens(2,5)\n"
   ]
  },
  {
   "source": [
    "### ANIMAL CRACKERS: Write a function takes a two-word string and returns True if both words begin with same letter\n",
    "* animal_crackers('Levelheaded Llama') --> True\n",
    "* animal_crackers('Crazy Kangaroo') --> False"
   ],
   "cell_type": "markdown",
   "metadata": {}
  },
  {
   "cell_type": "code",
   "execution_count": null,
   "metadata": {},
   "outputs": [],
   "source": [
    "stringTest1 = 'Levelheaded Llama'\n",
    "stringTest2 = 'Crazy Kangaroo'\n",
    "\n",
    "\n",
    "def animal_crackers(stringTest):\n",
    "    substring_split = stringTest.split(sep=\" \")\n",
    "    print(substring_split)\n",
    "    if (substring_split[0][0] == substring_split[1][0]):\n",
    "        return True\n",
    "    else:\n",
    "        return False\n",
    "\n",
    "\n",
    "animal_crackers(stringTest1)\n",
    "animal_crackers(stringTest2)     \n"
   ]
  },
  {
   "source": [
    "### MAKES TWENTY: Given two integers, return True if the sum of the integers is 20 or if one of the integers is 20. If not, return False\n",
    "* makes_twenty(20,10) --> True\n",
    "* makes_twenty(12,8) --> True\n",
    "* makes_twenty(2,3) --> False"
   ],
   "cell_type": "markdown",
   "metadata": {}
  },
  {
   "cell_type": "code",
   "execution_count": null,
   "metadata": {},
   "outputs": [],
   "source": [
    "def makes_twenty(intA, intB):\n",
    "    return (intA == 20) or (intB == 20) or (intA + intB == 20)\n",
    "\n",
    "makes_twenty(12, 7)"
   ]
  },
  {
   "source": [
    "### Write a function that computes the volume of a sphere given its radius."
   ],
   "cell_type": "markdown",
   "metadata": {}
  },
  {
   "cell_type": "code",
   "execution_count": null,
   "metadata": {},
   "outputs": [],
   "source": [
    "import math\n",
    "def vol(rad):\n",
    "    return 4 * math.pi * pow(rad,3) / 3\n",
    "\n",
    "vol(2)"
   ]
  },
  {
   "source": [
    "### Write a function that checks whether a number is in a given range (inclusive of high and low)"
   ],
   "cell_type": "markdown",
   "metadata": {}
  },
  {
   "cell_type": "code",
   "execution_count": null,
   "metadata": {},
   "outputs": [],
   "source": [
    "def ran_bool(num,low,high):\n",
    "    return (num >= low) and (num <= high)\n",
    "\n",
    "ran_bool(5, 2, 7)    "
   ]
  },
  {
   "source": [
    "### Write a Python function that takes a list and returns a new list with unique elements of the first list."
   ],
   "cell_type": "markdown",
   "metadata": {}
  },
  {
   "cell_type": "code",
   "execution_count": null,
   "metadata": {},
   "outputs": [],
   "source": [
    "list = [1,2,3]\n",
    "# print(list.index(3))\n",
    "\n",
    "def unique_list(lst):\n",
    "    list_return = []\n",
    "    for i in lst:\n",
    "        if (i not in list_return):\n",
    "           list_return.append(i)\n",
    "    return list_return\n",
    "\n",
    "unique_list([1,1,1,1,2,2,3,3,3,3,4,5])\n",
    "\n",
    "\n",
    "\n"
   ]
  },
  {
   "source": [
    "## Object oriented"
   ],
   "cell_type": "markdown",
   "metadata": {}
  },
  {
   "cell_type": "code",
   "execution_count": null,
   "metadata": {},
   "outputs": [],
   "source": [
    "\n",
    "class Line:\n",
    "    \n",
    "    def __init__(self,coor1,coor2):\n",
    "        self.coor1 = coor1\n",
    "        self.coor2 = coor2\n",
    "        pass\n",
    "    \n",
    "    def distance(self):\n",
    "        distance = math.sqrt( ((self.coor1[0]-self.coor2[0])**2)+((self.coor1[1]-self.coor2[1])**2) )\n",
    "        print(distance)\n",
    "        pass\n",
    "    \n",
    "    def slope(self):\n",
    "        slope = (self.coor1[1]-self.coor2[1]) / (self.coor1[0]-self.coor2[0])\n",
    "        print(slope)\n",
    "        pass\n",
    "\n",
    "coordinate1 = (3,2)\n",
    "coordinate2 = (8,10)\n",
    "\n",
    "li = Line(coordinate1,coordinate2)\n",
    "li.distance()\n",
    "li.slope()"
   ]
  },
  {
   "cell_type": "code",
   "execution_count": null,
   "metadata": {},
   "outputs": [],
   "source": [
    "class Cylinder:    \n",
    "    def __init__(self,height=1,radius=1):\n",
    "        self.height = height\n",
    "        self.radius = radius\n",
    "        pass\n",
    "        \n",
    "    def volume(self):\n",
    "        print(math.pi * self.radius**2 * self.height)\n",
    "        pass\n",
    "    \n",
    "    def surface_area(self):\n",
    "        print((math.pi * self.radius**2) * 2 + 2 * math.pi * self.radius * self.height)\n",
    "        pass\n",
    "\n",
    "c = Cylinder(2,3)\n",
    "c.volume()\n",
    "c.surface_area()"
   ]
  },
  {
   "cell_type": "code",
   "execution_count": null,
   "metadata": {},
   "outputs": [],
   "source": []
  }
 ]
}