{
 "cells": [
  {
   "cell_type": "markdown",
   "metadata": {},
   "source": [
    "# Numpy Tutorial\n",
    "\n"
   ]
  },
  {
   "cell_type": "markdown",
   "metadata": {},
   "source": [
    "## TODO\n",
    "- [ ] Mirar bien [PEP 8 Indentation](http://legacy.python.org/dev/peps/pep-0008/#indentation)"
   ]
  },
  {
   "cell_type": "code",
   "execution_count": null,
   "metadata": {},
   "outputs": [],
   "source": [
    "import numpy as np\n",
    "np.__version__"
   ]
  },
  {
   "cell_type": "markdown",
   "metadata": {},
   "source": [
    "## Arrays"
   ]
  },
  {
   "cell_type": "code",
   "execution_count": null,
   "metadata": {},
   "outputs": [],
   "source": [
    "# Array de una dimensión\n",
    "array = np.array([1, 2, 3, 4])\n",
    "\n",
    "# Array de dos dimensiones\n",
    "matriz = np.array([\n",
    "    [1, 2, 3], \n",
    "    [4, 5, 6], \n",
    "    [7, 8, 9]\n",
    "    ])\n",
    "\n",
    "# Array de ceros\n",
    "np.zeros(10)\n",
    "\n",
    "# Array vacío (no incializado)\n",
    "np.empty(10)\n",
    "\n",
    "# Array de unos\n",
    "np.ones(10)\n",
    "\n",
    "# Matriz identidad\n",
    "a = np.identity(3)\n",
    "\n",
    "# Array de X a Y\n",
    "a = np.arange(1, 10)\n",
    "\n",
    "#Array de X a Y de Z en Z\n",
    "a = np.arange(1, 10, 2)\n",
    "\n",
    "#Array de \n",
    "a = np.linspace(0, 10)\n",
    "\n",
    "# print(a)\n"
   ]
  },
  {
   "cell_type": "markdown",
   "metadata": {},
   "source": [
    "## Funciones y constantes"
   ]
  },
  {
   "cell_type": "code",
   "execution_count": null,
   "metadata": {
    "tags": []
   },
   "outputs": [],
   "source": [
    "# Suma\n",
    "np.sum(array)\n",
    "\n",
    "# Máximo\n",
    "np.max(array)\n",
    "\n",
    "# Seno\n",
    "np.sin(matriz)\n",
    "\n",
    "mean = np.mean(array)\n",
    "print(mean)\n",
    "\n",
    "np.pi, np.e"
   ]
  },
  {
   "cell_type": "code",
   "execution_count": null,
   "metadata": {},
   "outputs": [],
   "source": []
  }
 ],
 "metadata": {
  "language_info": {
   "codemirror_mode": {
    "name": "ipython",
    "version": 3
   },
   "file_extension": ".py",
   "mimetype": "text/x-python",
   "name": "python",
   "nbconvert_exporter": "python",
   "pygments_lexer": "ipython3",
   "version": "3.7.6-final"
  },
  "orig_nbformat": 2,
  "kernelspec": {
   "name": "python3",
   "display_name": "Python 3"
  }
 },
 "nbformat": 4,
 "nbformat_minor": 2
}